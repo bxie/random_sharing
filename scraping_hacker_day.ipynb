{
 "cells": [
  {
   "cell_type": "code",
   "execution_count": 16,
   "metadata": {
    "collapsed": true
   },
   "outputs": [],
   "source": [
    "from bs4 import BeautifulSoup # for web scraping\n",
    "import urllib2 # for getting url"
   ]
  },
  {
   "cell_type": "code",
   "execution_count": 5,
   "metadata": {
    "collapsed": true
   },
   "outputs": [],
   "source": [
    "url_template = \"http://hackaday.com/tag/arduino/page/\""
   ]
  },
  {
   "cell_type": "code",
   "execution_count": 10,
   "metadata": {
    "collapsed": false
   },
   "outputs": [],
   "source": [
    "# messing around\n",
    "\n",
    "page_num = 1\n",
    "url = url_template + str(page_num)\n",
    "\n",
    "response = urllib2.urlopen(url)\n",
    "html = response.read()\n",
    "soup = BeautifulSoup(html)"
   ]
  },
  {
   "cell_type": "code",
   "execution_count": 71,
   "metadata": {
    "collapsed": false
   },
   "outputs": [
    {
     "data": {
      "text/plain": [
       "u'\\n                12 Comments            '"
      ]
     },
     "execution_count": 71,
     "metadata": {},
     "output_type": "execute_result"
    }
   ],
   "source": [
    "# still messing around\n",
    "\n",
    "meta_data = soup.find_all(\"header\", \"entry-header\")\n",
    "meta0 = meta_data[0]\n",
    "\n",
    "# meta0.find(\"h1\", \"entry-title\").find('a').get('href') #get url\n",
    "# meta0.find(\"span\", \"entry-date\").get_text() #get date\n",
    "# meta0.find(\"a\", \"comments-counts\").get_text() #get comment count\n"
   ]
  },
  {
   "cell_type": "code",
   "execution_count": 38,
   "metadata": {
    "collapsed": false
   },
   "outputs": [],
   "source": [
    "def find_number(input_str):\n",
    "    \"\"\" given string, return list of all numbers in that string \"\"\"\n",
    "\n",
    "    return [int(s) for s in input_str.split() if s.isdigit()]"
   ]
  },
  {
   "cell_type": "code",
   "execution_count": 74,
   "metadata": {
    "collapsed": false
   },
   "outputs": [
    {
     "name": "stdout",
     "output_type": "stream",
     "text": [
      "Done!\n"
     ]
    }
   ],
   "source": [
    "\"\"\"\n",
    "Actually parsing through pages here\n",
    "\"\"\"\n",
    "output = {}\n",
    "for i in range(5):\n",
    "    url = url_template + str(i+1)\n",
    "    response = urllib2.urlopen(url)\n",
    "    html = response.read()\n",
    "    soup = BeautifulSoup(html)\n",
    "    \n",
    "    posts = soup.find_all(\"header\", \"entry-header\") #<header class=\"entry-header\" ...>\n",
    "    for post in posts:\n",
    "        url = post.find(\"h1\", \"entry-title\").find('a').get('href') # get url\n",
    "        date = post.find(\"span\", \"entry-date\").get_text() # get date\n",
    "        comment_str = post.find(\"a\", \"comments-counts\").get_text() # get string w/ comment count in it\n",
    "        comment_count = int(find_number(comment_str)[0]) # get actual comment count\n",
    "        \n",
    "        output[url] = [date, comment_count] #this is a weird data format. consider revising\n",
    "\n",
    "print \"Done!\"\n",
    "        "
   ]
  },
  {
   "cell_type": "code",
   "execution_count": null,
   "metadata": {
    "collapsed": false
   },
   "outputs": [],
   "source": []
  },
  {
   "cell_type": "code",
   "execution_count": 76,
   "metadata": {
    "collapsed": false
   },
   "outputs": [
    {
     "data": {
      "text/plain": [
       "{u'http://hackaday.com/2016/10/09/arcade-cabinet-build-takes-quarters-dispenses-fun/': [u'October 9, 2016',\n",
       "  15],\n",
       " u'http://hackaday.com/2016/10/10/making-a-gesture/': [u'October 10, 2016', 3],\n",
       " u'http://hackaday.com/2016/10/15/dirt-cheap-muon-detector-puts-particle-physics-within-diy-reach/': [u'October 15, 2016',\n",
       "  30],\n",
       " u'http://hackaday.com/2016/10/16/homemade-e-drums-hit-all-the-right-notes/': [u'October 16, 2016',\n",
       "  8],\n",
       " u'http://hackaday.com/2016/10/17/its-a-clock-its-a-puzzle-its-the-gooniebox/': [u'October 17, 2016',\n",
       "  5],\n",
       " u'http://hackaday.com/2016/10/17/rotating-frame-will-change-your-view-of-vertical-images/': [u'October 17, 2016',\n",
       "  28],\n",
       " u'http://hackaday.com/2016/10/18/turning-broken-toy-into-laser-target-practice/': [u'October 18, 2016',\n",
       "  9],\n",
       " u'http://hackaday.com/2016/10/19/newsflash-a-bunch-of-arduinos-is-not-an-autonomous-car/': [u'October 19, 2016',\n",
       "  48],\n",
       " u'http://hackaday.com/2016/10/19/scissors-make-great-automatic-cable-cutters/': [u'October 19, 2016',\n",
       "  23],\n",
       " u'http://hackaday.com/2016/10/20/navigation-thing-four-days-three-problems-and-fake-piezos/': [u'October 20, 2016',\n",
       "  13],\n",
       " u'http://hackaday.com/2016/10/21/minecraft-sword-lights-up-when-nearby-friends/': [u'October 21, 2016',\n",
       "  8],\n",
       " u'http://hackaday.com/2016/10/25/dual-boot-your-arduino/': [u'October 25, 2016',\n",
       "  26],\n",
       " u'http://hackaday.com/2016/10/30/litter-basket-automation/': [u'October 30, 2016',\n",
       "  9],\n",
       " u'http://hackaday.com/2016/10/30/primer-on-servos-hits-all-the-basics/': [u'October 30, 2016',\n",
       "  9],\n",
       " u'http://hackaday.com/2016/10/31/whats-new-esp-32-testing-the-arduino-esp32-library/': [u'October 31, 2016',\n",
       "  25],\n",
       " u'http://hackaday.com/2016/11/02/minimal-arduino-clock/': [u'November 2, 2016',\n",
       "  19],\n",
       " u'http://hackaday.com/2016/11/02/rotary-cell-phone-blast-from-a-past-that-never-was/': [u'November 2, 2016',\n",
       "  33],\n",
       " u'http://hackaday.com/2016/11/05/personal-compass-points-to-your-spawn-point/': [u'November 5, 2016',\n",
       "  22],\n",
       " u'http://hackaday.com/2016/11/06/harpsi-gourd-gets-you-into-thanksgiving-spirit/': [u'November 6, 2016',\n",
       "  2],\n",
       " u'http://hackaday.com/2016/11/06/touchless-midi-the-secrets-in-the-mitten/': [u'November 6, 2016',\n",
       "  7],\n",
       " u'http://hackaday.com/2016/11/07/diy-i2c-devices-with-attiny85/': [u'November 7, 2016',\n",
       "  27],\n",
       " u'http://hackaday.com/2016/11/09/my-life-in-the-connector-zoo/': [u'November 9, 2016',\n",
       "  44],\n",
       " u'http://hackaday.com/2016/11/10/launitor-saves-you-from-accidentally-smelly-clothes/': [u'November 10, 2016',\n",
       "  19],\n",
       " u'http://hackaday.com/2016/11/11/a-trove-of-arcade-projects/': [u'November 11, 2016',\n",
       "  4],\n",
       " u'http://hackaday.com/2016/11/11/arduworm-a-malware-for-your-arduino-yun/': [u'November 11, 2016',\n",
       "  24],\n",
       " u'http://hackaday.com/2016/11/13/arduino-with-a-pic/': [u'November 13, 2016',\n",
       "  35],\n",
       " u'http://hackaday.com/2016/11/14/ask-hackaday-converting-negative-voltages-to-positive/': [u'November 14, 2016',\n",
       "  79],\n",
       " u'http://hackaday.com/2016/11/14/power-wheels-rescued-restored-and-enhanced/': [u'November 14, 2016',\n",
       "  12],\n",
       " u'http://hackaday.com/2016/11/17/a-laser-effect-projector-built-with-safety-in-mind/': [u'November 17, 2016',\n",
       "  28],\n",
       " u'http://hackaday.com/2016/11/18/only-one-button-no-problem/': [u'November 18, 2016',\n",
       "  26],\n",
       " u'http://hackaday.com/2016/11/19/3d-printed-moon-phase-clock/': [u'November 19, 2016',\n",
       "  18],\n",
       " u'http://hackaday.com/2016/11/20/emg-tutorial-lets-you-listen-to-your-muscles/': [u'November 20, 2016',\n",
       "  6],\n",
       " u'http://hackaday.com/2016/11/20/midi-guitar-pedals/': [u'November 20, 2016',\n",
       "  8],\n",
       " u'http://hackaday.com/2016/11/20/scrap-bin-mods-move-science-forward/': [u'November 20, 2016',\n",
       "  12],\n",
       " u'http://hackaday.com/2016/11/21/red-dwarfs-talkie-toaster-tests-tolerance/': [u'November 21, 2016',\n",
       "  6]}"
      ]
     },
     "execution_count": 76,
     "metadata": {},
     "output_type": "execute_result"
    }
   ],
   "source": [
    "output"
   ]
  },
  {
   "cell_type": "code",
   "execution_count": null,
   "metadata": {
    "collapsed": true
   },
   "outputs": [],
   "source": []
  }
 ],
 "metadata": {
  "kernelspec": {
   "display_name": "Python 2",
   "language": "python",
   "name": "python2"
  },
  "language_info": {
   "codemirror_mode": {
    "name": "ipython",
    "version": 2
   },
   "file_extension": ".py",
   "mimetype": "text/x-python",
   "name": "python",
   "nbconvert_exporter": "python",
   "pygments_lexer": "ipython2",
   "version": "2.7.12"
  }
 },
 "nbformat": 4,
 "nbformat_minor": 0
}
